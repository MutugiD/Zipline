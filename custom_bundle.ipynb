{
 "cells": [
  {
   "cell_type": "code",
   "execution_count": 6,
   "id": "c630e672",
   "metadata": {},
   "outputs": [],
   "source": [
    "import pandas as pd\n",
    "import csv\n",
    "import numpy as np\n",
    "from trading_calendars import get_calendar\n",
    "from zipline.utils.calendars import TradingCalendar\n",
    "from zipline.utils.tradingcalendar import get_trading_days\n",
    "from pandas import Timestamp\n",
    "\n",
    "\n",
    "#%%\n",
    "#This is the process to get the correct trading days, which will then be use in the Bundle Ingest process to index the days\n",
    "trading_days = get_trading_days(start=Timestamp('2018-01-01 00:00:00+0000', tz='UTC'), \n",
    "                                end=Timestamp('2021-08-24 02:21:29.456875+0000')\n",
    "                                ).date.astype(str)\n",
    "\n",
    "#%%\n",
    "# Create a CSV file to set the Zipline Bundle Ingest process against\n",
    "with open('trading_calendar.csv', 'w', newline='') as f:\n",
    "    writer = csv.writer(f)\n",
    "    writer.writerow(trading_days)"
   ]
  },
  {
   "cell_type": "code",
   "execution_count": 7,
   "id": "4160e14c",
   "metadata": {},
   "outputs": [],
   "source": [
    "import pandas as pd\n",
    "import csv\n",
    "import numpy as np\n",
    "from trading_calendars import get_calendar\n",
    "from zipline.utils.calendars import TradingCalendar\n",
    "from zipline.utils.tradingcalendar import get_trading_days\n",
    "from pandas import Timestamp\n",
    "\n",
    "\n",
    "#%%\n",
    "#This is the process to get the correct trading days, which will then be use in the Bundle Ingest process to index the days\n",
    "trading_days = get_trading_days(start=Timestamp('2018-01-01 00:00:00+0000', tz='UTC'), \n",
    "                                end=Timestamp('2021-08-24 00:00:00+0000')\n",
    "                                ).date.astype(str)\n",
    "\n",
    "#%%\n",
    "# Create a CSV file to set the Zipline Bundle Ingest process against\n",
    "with open('trading_calendar.csv', 'w', newline='') as f:\n",
    "    writer = csv.writer(f)\n",
    "    writer.writerow(trading_days)"
   ]
  },
  {
   "cell_type": "code",
   "execution_count": 8,
   "id": "ceb62e99",
   "metadata": {},
   "outputs": [],
   "source": [
    "import csv\n",
    "import numpy as np\n",
    "import pandas as pd\n",
    "import os\n",
    "\n",
    "#%%\n",
    "# Get the Trading Calendar, run from a zip35 code environment\n",
    "with open('trading_calendar.csv') as f:\n",
    "    reader = csv.reader(f)\n",
    "    data = list(reader)\n",
    "\n",
    "arr = np.array(data)\n",
    "trading_days = arr.ravel()"
   ]
  },
  {
   "cell_type": "code",
   "execution_count": 10,
   "id": "f61794bf",
   "metadata": {},
   "outputs": [
    {
     "data": {
      "text/plain": [
       "'11 files was adjusted'"
      ]
     },
     "execution_count": 10,
     "metadata": {},
     "output_type": "execute_result"
    }
   ],
   "source": [
    "def format_bundle(indir, outdir):\n",
    "       \n",
    "    count = 0\n",
    "    for f in os.listdir(indir): # For Production\n",
    "    # for f in ['AAPL.csv']:  # For Testing\n",
    "        \n",
    "        df = pd.read_csv('{}/{}'.format(indir, f), index_col='date')\n",
    "        \n",
    "        # I need to add some logic here to force the number of rows to equal the number of expected trading days\n",
    "        df = df.reindex(trading_days)\n",
    "\n",
    "        # Export it in the csvdir format needed for the ziplien bundle ingestion process\n",
    "        df.reset_index(inplace=True)\n",
    "        \n",
    "        # Check if there is there is any divident, if not make it zero\n",
    "        if not 'dividend' in df.columns:\n",
    "            df['dividend'] = 0.0\n",
    "        \n",
    "        #df = df[['date', 'open_adj', 'high_adj', 'low_adj', 'close_adj', 'volume_adj', 'dividend']]\n",
    "        df['dividend'].fillna(0.00, inplace=True)\n",
    "        df['ratio'] = 1  # Since I alread did all the adjusting\n",
    "        \n",
    "        #df.rename(columns={'open_adj': 'open',\n",
    "         #                  'high_adj': 'high',\n",
    "         #                  'low_adj': 'low',\n",
    "         #                  'close_adj': 'close',\n",
    "          #                 'volume_adj': 'volume'\n",
    "          #                 }, inplace=True)\n",
    "        \n",
    "        # Round the numbers in the dataframe\n",
    "        df = df.round({'open':4,\n",
    "                  'high':4,\n",
    "                  'low':4,\n",
    "                  'close':4,\n",
    "                  'volume':1,\n",
    "                  'dividend':2})\n",
    "\n",
    "        df.to_csv('{}/{}'.format(outdir, f), index=False)\n",
    "\n",
    "        count += 1\n",
    "        \n",
    "    return ('{} files was adjusted'.format(count))\n",
    "\n",
    "\n",
    "#%%  Execute the function to format the files\n",
    "format_bundle('data/bars_adj', 'data/csvs/daily')"
   ]
  },
  {
   "cell_type": "code",
   "execution_count": null,
   "id": "0373902a",
   "metadata": {},
   "outputs": [],
   "source": []
  }
 ],
 "metadata": {
  "kernelspec": {
   "display_name": "zipline-trader36",
   "language": "python",
   "name": "zipline-trader36"
  },
  "language_info": {
   "codemirror_mode": {
    "name": "ipython",
    "version": 3
   },
   "file_extension": ".py",
   "mimetype": "text/x-python",
   "name": "python",
   "nbconvert_exporter": "python",
   "pygments_lexer": "ipython3",
   "version": "3.6.13"
  }
 },
 "nbformat": 4,
 "nbformat_minor": 5
}
