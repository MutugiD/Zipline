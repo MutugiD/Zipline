{
 "cells": [
  {
   "cell_type": "code",
   "execution_count": 1,
   "id": "7b4c7e56",
   "metadata": {},
   "outputs": [
    {
     "name": "stdout",
     "output_type": "stream",
     "text": [
      "alpaca:\n",
      "  key_id: \"P\n"
     ]
    }
   ],
   "source": [
    "import os\n",
    "os.environ['ZIPLINE_ROOT'] = os.path.join(os.getcwd(), '~\\.zipline')\n",
    "os.listdir(os.environ['ZIPLINE_ROOT'])\n",
    "os.environ['ZIPLINE_TRADER_CONFIG'] = os.path.join(os.getcwd(), \"./zipline-trader.yaml\")\n",
    "with open(os.environ['ZIPLINE_TRADER_CONFIG'], 'r') as f:\n",
    "    data = f.read()\n",
    "    print(data[:20])\n"
   ]
  },
  {
   "cell_type": "code",
   "execution_count": 2,
   "id": "2e42bcad",
   "metadata": {},
   "outputs": [],
   "source": [
    "import zipline\n",
    "from zipline.data import bundles\n",
    "\n",
    "bundle_name = 'alpaca_api'\n",
    "bundle_data = bundles.load(bundle_name)\n",
    "from zipline.pipeline.loaders import USEquityPricingLoader\n",
    "from zipline.utils.calendars import get_calendar\n",
    "from zipline.pipeline.data import USEquityPricing\n",
    "from zipline.data.data_portal import DataPortal\n",
    "\n",
    "import pandas as pd"
   ]
  },
  {
   "cell_type": "code",
   "execution_count": 11,
   "id": "b0c47cd5",
   "metadata": {},
   "outputs": [],
   "source": [
    "# Set the dataloader\n",
    "pricing_loader = USEquityPricingLoader.without_fx(bundle_data.equity_daily_bar_reader, bundle_data.adjustment_reader)\n",
    "\n",
    "\n",
    "# Define the function for the get_loader parameter\n",
    "def choose_loader(column):\n",
    "    if column not in USEquityPricing.columns:\n",
    "        raise Exception('Column not in USEquityPricing')\n",
    "    return pricing_loader\n",
    "\n",
    "# Set the trading calendar\n",
    "trading_calendar = get_calendar('NYSE')\n",
    "\n",
    "start_date = pd.Timestamp('2021-01-05', tz='utc')\n",
    "end_date = pd.Timestamp('2021-04-05', tz='utc')\n",
    "\n",
    "# Create a data portal\n",
    "data_portal = DataPortal(bundle_data.asset_finder,\n",
    "                         trading_calendar = trading_calendar,\n",
    "                         first_trading_day = start_date,\n",
    "                         equity_daily_reader = bundle_data.equity_daily_bar_reader,\n",
    "                         adjustment_reader = bundle_data.adjustment_reader)"
   ]
  },
  {
   "cell_type": "code",
   "execution_count": 12,
   "id": "07c08fba",
   "metadata": {},
   "outputs": [],
   "source": [
    "from zipline.utils.calendars import get_calendar\n",
    "from zipline.pipeline.data import USEquityPricing\n",
    "from zipline.pipeline.engine import SimplePipelineEngine\n",
    "\n",
    "# Create a Pipeline engine\n",
    "engine = SimplePipelineEngine(get_loader = choose_loader,\n",
    "                              asset_finder = bundle_data.asset_finder)\n",
    "from zipline.pipeline.domain import US_EQUITIES\n",
    "from zipline.pipeline.factors import AverageDollarVolume\n",
    "from zipline.pipeline import Pipeline\n",
    "\n",
    "# Create a screen for our Pipeline\n",
    "universe = AverageDollarVolume(window_length = 5).top(10)\n",
    "\n",
    "# Create an empty Pipeline with the given screen\n",
    "pipeline = Pipeline(screen = universe, domain=US_EQUITIES)\n",
    "pipeline.add(AverageDollarVolume(window_length = 5), \"Dollar Volume\")"
   ]
  },
  {
   "cell_type": "code",
   "execution_count": 13,
   "id": "91f83bfe",
   "metadata": {},
   "outputs": [
    {
     "data": {
      "text/html": [
       "<div>\n",
       "<style scoped>\n",
       "    .dataframe tbody tr th:only-of-type {\n",
       "        vertical-align: middle;\n",
       "    }\n",
       "\n",
       "    .dataframe tbody tr th {\n",
       "        vertical-align: top;\n",
       "    }\n",
       "\n",
       "    .dataframe thead th {\n",
       "        text-align: right;\n",
       "    }\n",
       "</style>\n",
       "<table border=\"1\" class=\"dataframe\">\n",
       "  <thead>\n",
       "    <tr style=\"text-align: right;\">\n",
       "      <th></th>\n",
       "      <th></th>\n",
       "      <th>Dollar Volume</th>\n",
       "    </tr>\n",
       "  </thead>\n",
       "  <tbody>\n",
       "    <tr>\n",
       "      <th rowspan=\"3\" valign=\"top\">2021-01-05 00:00:00+00:00</th>\n",
       "      <th>Equity(0 [GOOG])</th>\n",
       "      <td>2.054416e+09</td>\n",
       "    </tr>\n",
       "    <tr>\n",
       "      <th>Equity(1 [AAPL])</th>\n",
       "      <td>1.410447e+10</td>\n",
       "    </tr>\n",
       "    <tr>\n",
       "      <th>Equity(2 [TSLA])</th>\n",
       "      <td>2.589335e+10</td>\n",
       "    </tr>\n",
       "    <tr>\n",
       "      <th rowspan=\"2\" valign=\"top\">2021-01-06 00:00:00+00:00</th>\n",
       "      <th>Equity(0 [GOOG])</th>\n",
       "      <td>1.900373e+09</td>\n",
       "    </tr>\n",
       "    <tr>\n",
       "      <th>Equity(1 [AAPL])</th>\n",
       "      <td>1.316191e+10</td>\n",
       "    </tr>\n",
       "  </tbody>\n",
       "</table>\n",
       "</div>"
      ],
      "text/plain": [
       "                                            Dollar Volume\n",
       "2021-01-05 00:00:00+00:00 Equity(0 [GOOG])   2.054416e+09\n",
       "                          Equity(1 [AAPL])   1.410447e+10\n",
       "                          Equity(2 [TSLA])   2.589335e+10\n",
       "2021-01-06 00:00:00+00:00 Equity(0 [GOOG])   1.900373e+09\n",
       "                          Equity(1 [AAPL])   1.316191e+10"
      ]
     },
     "execution_count": 13,
     "metadata": {},
     "output_type": "execute_result"
    }
   ],
   "source": [
    "# Set the start and end dates\n",
    "start_date = pd.Timestamp('2021-01-05', tz='utc')\n",
    "end_date = pd.Timestamp('2021-04-05', tz='utc')\n",
    "\n",
    "# Run our pipeline for the given start and end dates\n",
    "pipeline_output = engine.run_pipeline(pipeline, start_date, end_date)\n",
    "pipeline_output.head()"
   ]
  }
 ],
 "metadata": {
  "kernelspec": {
   "display_name": "zipline-trader36",
   "language": "python",
   "name": "zipline-trader36"
  },
  "language_info": {
   "codemirror_mode": {
    "name": "ipython",
    "version": 3
   },
   "file_extension": ".py",
   "mimetype": "text/x-python",
   "name": "python",
   "nbconvert_exporter": "python",
   "pygments_lexer": "ipython3",
   "version": "3.6.13"
  }
 },
 "nbformat": 4,
 "nbformat_minor": 5
}
