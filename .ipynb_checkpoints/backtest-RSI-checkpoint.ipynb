{
 "cells": [
  {
   "cell_type": "code",
   "execution_count": 2,
   "id": "bbfdd227",
   "metadata": {},
   "outputs": [],
   "source": [
    "#%%\n",
    "import talib\n",
    "from zipline.api import order_target, record, symbol, order_target_percent\n",
    "\n",
    "'''   \n",
    "This example algorithm uses the Relative Strength Index indicator as a buy/sell signal.\n",
    "When the RSI is over 70, a stock can be seen as overbought and it's time to sell.\n",
    "When the RSI is below 30, a stock can be seen as oversold and it's time to buy.\n",
    "'''\n",
    "\n",
    "# Setup our variables\n",
    "def initialize(context):\n",
    "    \n",
    "    # what stock to trade - FAANG in this example\n",
    "    # stocklist = ['FB', 'AMZN', 'AAPL', 'NFLX', 'GOOG']\n",
    "    stocklist = ['TSLA', 'AMZN', 'AAPL', 'NUE', 'GOOG']\n",
    "\n",
    "    # make a list of symbols for the list of tickers\n",
    "    context.stocks = [symbol(s) for s in stocklist]\n",
    "    \n",
    "    # create equal weights of each stock to hold in our portfolio\n",
    "    context.target_pct_per_stock = 1.0 / len(context.stocks)\n",
    "    \n",
    "    # create initial RSI threshold values for low (oversold and buy signal) and high (overbought and sell signal)\n",
    "    context.LOW_RSI = 30\n",
    "    context.HIGH_RSI = 70\n",
    "\n",
    "# Rebalance daily.\n",
    "def handle_data(context, data):\n",
    "    \n",
    "    # Load historical pricing data for the stocks, using daily frequncy and a rolling 20 days\n",
    "    prices = data.history(context.stocks, 'price', bar_count=20, frequency=\"1d\")\n",
    "    \n",
    "    rsis = {}\n",
    "    \n",
    "    # Loop through our list of stocks\n",
    "    for stock in context.stocks:\n",
    "        # Get the rsi of this stock.\n",
    "        rsi = talib.RSI(prices[stock], timeperiod=14)[-1]\n",
    "        rsis[stock] = rsi\n",
    "        \n",
    "        current_position = context.portfolio.positions[stock].amount\n",
    "        \n",
    "        # RSI is above 70 and we own shares, time to sell\n",
    "        if rsi > context.HIGH_RSI and current_position > 0 and data.can_trade(stock):\n",
    "            order_target(stock, 0)\n",
    "   \n",
    "        # RSI is below 30 and we don't have any shares, time to buy\n",
    "        elif rsi < context.LOW_RSI and current_position == 0 and data.can_trade(stock):\n",
    "            order_target_percent(stock, context.target_pct_per_stock)\n",
    "\n",
    "    # record the current RSI values of each stock for later ispection\n",
    "    record(fb_rsi=rsis[symbol('TSLA')],\n",
    "           amzn_rsi=rsis[symbol('AMZN')],\n",
    "           aapl_rsi=rsis[symbol('AAPL')],\n",
    "           nflx_rsi=rsis[symbol('NUE')],\n",
    "           googl_rsi=rsis[symbol('GOOG')])\n",
    "  "
   ]
  },
  {
   "cell_type": "code",
   "execution_count": 3,
   "id": "4288eb05",
   "metadata": {},
   "outputs": [],
   "source": [
    "import pytz\n",
    "import pandas as pd\n",
    "from datetime import datetime\n",
    "import matplotlib.pyplot as plt\n",
    "import pandas_datareader.data as yahoo_reader\n",
    "\n",
    "from zipline.utils.calendars import get_calendar\n",
    "from zipline.api import order_target, symbol\n",
    "from zipline.data import bundles\n",
    "from zipline import run_algorithm"
   ]
  },
  {
   "cell_type": "code",
   "execution_count": 4,
   "id": "f3c467de",
   "metadata": {},
   "outputs": [],
   "source": [
    "def get_benchmark(symbol=None, start=None, end=None):\n",
    "    bm = yahoo_reader.DataReader(symbol,\n",
    "                                 'yahoo',\n",
    "                                 pd.Timestamp(start),\n",
    "                                 pd.Timestamp(end))['Close']\n",
    "    bm.index = bm.index.tz_localize('UTC')\n",
    "    return bm.pct_change(periods=1).fillna(0)"
   ]
  },
  {
   "cell_type": "code",
   "execution_count": 5,
   "id": "dbedc932",
   "metadata": {},
   "outputs": [
    {
     "data": {
      "image/png": "[encoded data removed]",
      "text/plain": [
       "<Figure size 1152x360 with 1 Axes>"
      ]
     },
     "metadata": {
      "needs_background": "light"
     },
     "output_type": "display_data"
    }
   ],
   "source": [
    "if __name__ == '__main__':\n",
    "    bundle_name = 'alpaca_api'\n",
    "    bundle_data = bundles.load(bundle_name)\n",
    "\n",
    "    # Set the trading calendar\n",
    "    trading_calendar = get_calendar('NYSE')\n",
    "\n",
    "    start = pd.Timestamp(datetime(2020, 9, 25, tzinfo=pytz.UTC))\n",
    "    end = pd.Timestamp(datetime(2021, 8, 20, tzinfo=pytz.UTC))\n",
    "\n",
    "    r = run_algorithm(start=start,\n",
    "                      end=end,\n",
    "                      initialize=initialize,\n",
    "                      capital_base=100000,\n",
    "                      handle_data=handle_data,\n",
    "                      benchmark_returns=get_benchmark(symbol=\"SPY\",\n",
    "                                                      start=start.date().isoformat(),\n",
    "                                                      end=end.date().isoformat()),\n",
    "                      bundle='alpaca_api',\n",
    "                      broker=None,\n",
    "                      state_filename=\"./demo.state\",\n",
    "                      trading_calendar=trading_calendar,\n",
    "                      #before_trading_start=before_trading_start,\n",
    "                      #                   analyze=analyze,\n",
    "                      data_frequency='daily'\n",
    "                      )\n",
    "    fig, axes = plt.subplots(1, 1, figsize=(16, 5), sharex=True)\n",
    "    r.algorithm_period_return.plot(color='blue')\n",
    "    plt.legend(['Algo', 'Benchmark'])\n",
    "    plt.ylabel(\"Returns\", color='black', size=20)\n",
    "    plt.show()"
   ]
  },
  {
   "cell_type": "code",
   "execution_count": null,
   "id": "56f95209",
   "metadata": {},
   "outputs": [],
   "source": []
  }
 ],
 "metadata": {
  "kernelspec": {
   "display_name": "zipline-trader36",
   "language": "python",
   "name": "zipline-trader36"
  },
  "language_info": {
   "codemirror_mode": {
    "name": "ipython",
    "version": 3
   },
   "file_extension": ".py",
   "mimetype": "text/x-python",
   "name": "python",
   "nbconvert_exporter": "python",
   "pygments_lexer": "ipython3",
   "version": "3.6.13"
  }
 },
 "nbformat": 4,
 "nbformat_minor": 5
}
