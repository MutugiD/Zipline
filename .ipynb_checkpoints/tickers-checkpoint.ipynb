{
 "cells": [
  {
   "cell_type": "code",
   "execution_count": 32,
   "id": "ff44dd3f",
   "metadata": {},
   "outputs": [
    {
     "name": "stdout",
     "output_type": "stream",
     "text": [
      "[*********************100%***********************]  1 of 1 completed\n"
     ]
    }
   ],
   "source": [
    "import talib \n",
    "import yfinance as yf  \n",
    "import numpy as np\n",
    "import pandas as pd\n",
    "\n",
    "\n",
    "def download_data(sign=None, start=None, interval=None, end=None):\n",
    "  data = yf.download(sign, start=start, interval=interval,  end=end ,progress=False)\n",
    "  return data\n",
    "    \n",
    "#tickers = [\"ADA-USD\", \"AAVE-USD\", BCH-USD\",  \"BTC-USD\", \"DOGE-USD\", \"ETH-USD\", \"THETA-USD\", \"MATIC-USD\", \"VET-USD\", \"XRP-USD\"] \n",
    "\n",
    "BTC = yf.download(\"^CMC200\", start='2018-01-01', interval='1d',  end='2021-08-24') \n",
    "BTC = BTC.drop(columns = ['Adj Close'])\n",
    "BTC.index.name = 'date'\n",
    "BTC = BTC.rename(columns = {'Open':'open', 'High': 'high', 'Low':'low', 'Close':'close', 'Volume':'volume'})\n",
    "BTC.to_csv('data/bars_adj/CMC200.csv')"
   ]
  },
  {
   "cell_type": "code",
   "execution_count": null,
   "id": "53980f7f",
   "metadata": {},
   "outputs": [],
   "source": []
  }
 ],
 "metadata": {
  "kernelspec": {
   "display_name": "zipline-trader36",
   "language": "python",
   "name": "zipline-trader36"
  },
  "language_info": {
   "codemirror_mode": {
    "name": "ipython",
    "version": 3
   },
   "file_extension": ".py",
   "mimetype": "text/x-python",
   "name": "python",
   "nbconvert_exporter": "python",
   "pygments_lexer": "ipython3",
   "version": "3.6.13"
  }
 },
 "nbformat": 4,
 "nbformat_minor": 5
}
