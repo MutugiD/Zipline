{
 "cells": [
  {
   "cell_type": "code",
   "execution_count": 1,
   "id": "9732c262",
   "metadata": {},
   "outputs": [
    {
     "name": "stdout",
     "output_type": "stream",
     "text": [
      "alpaca:\n",
      "  key_id: \"P\n"
     ]
    }
   ],
   "source": [
    "import os\n",
    "os.environ['ZIPLINE_ROOT'] = os.path.join(os.getcwd(), '~\\.zipline')\n",
    "\n",
    "os.listdir(os.environ['ZIPLINE_ROOT'])\n",
    "os.environ['ZIPLINE_TRADER_CONFIG'] = os.path.join(os.getcwd(), \"./zipline-trader.yaml\")\n",
    "with open(os.environ['ZIPLINE_TRADER_CONFIG'], 'r') as f:\n",
    "    data = f.read()\n",
    "    print(data[:20])"
   ]
  },
  {
   "cell_type": "code",
   "execution_count": 3,
   "id": "6353d107",
   "metadata": {},
   "outputs": [],
   "source": [
    "import zipline\n",
    "from zipline.api import (order_target_percent, symbol, set_commission, set_slippage,\n",
    " schedule_function, date_rules, time_rules)\n",
    "from zipline.finance.commission import PerDollar\n",
    "from zipline.finance.slippage import VolumeShareSlippage, FixedSlippage\n"
   ]
  },
  {
   "cell_type": "code",
   "execution_count": 19,
   "id": "2e79c4b3",
   "metadata": {},
   "outputs": [],
   "source": [
    "import zipline\n",
    "from zipline.data import bundles\n",
    "\n",
    "bundle_name = 'alpaca_api'\n",
    "bundle_data = bundles.load(bundle_name)"
   ]
  },
  {
   "cell_type": "code",
   "execution_count": 20,
   "id": "f5c1b123",
   "metadata": {},
   "outputs": [],
   "source": [
    "from zipline.pipeline.loaders import USEquityPricingLoader\n",
    "from zipline.utils.calendars import get_calendar\n",
    "from zipline.pipeline.data import USEquityPricing\n",
    "from zipline.data.data_portal import DataPortal\n",
    "import pandas as pd"
   ]
  },
  {
   "cell_type": "code",
   "execution_count": 21,
   "id": "a0e5e587",
   "metadata": {},
   "outputs": [],
   "source": [
    "pricing_loader = USEquityPricingLoader.without_fx(bundle_data.equity_daily_bar_reader, bundle_data.adjustment_reader)\n",
    "def choose_loader(column):\n",
    "    if column not in USEquityPricing.columns:\n",
    "        raise Exception('Column not in USEquityPricing')\n",
    "    return pricing_loader\n",
    "\n",
    "# Set the trading calendar\n",
    "trading_calendar = get_calendar('NYSE')"
   ]
  },
  {
   "cell_type": "code",
   "execution_count": 29,
   "id": "07c2fecb",
   "metadata": {},
   "outputs": [],
   "source": [
    "start_date = pd.Timestamp('2021-01-04', tz='utc')\n",
    "end_date = pd.Timestamp('2021-03-04', tz='utc')\n"
   ]
  },
  {
   "cell_type": "code",
   "execution_count": 30,
   "id": "e9aea720",
   "metadata": {},
   "outputs": [],
   "source": [
    "data_portal = DataPortal(bundle_data.asset_finder,\n",
    "                         trading_calendar = trading_calendar,\n",
    "                         first_trading_day = start_date,\n",
    "                         equity_daily_reader = bundle_data.equity_daily_bar_reader,\n",
    "                         adjustment_reader = bundle_data.adjustment_reader)"
   ]
  },
  {
   "cell_type": "code",
   "execution_count": 41,
   "id": "1fa05c96",
   "metadata": {},
   "outputs": [
    {
     "data": {
      "text/html": [
       "<div>\n",
       "<style scoped>\n",
       "    .dataframe tbody tr th:only-of-type {\n",
       "        vertical-align: middle;\n",
       "    }\n",
       "\n",
       "    .dataframe tbody tr th {\n",
       "        vertical-align: top;\n",
       "    }\n",
       "\n",
       "    .dataframe thead th {\n",
       "        text-align: right;\n",
       "    }\n",
       "</style>\n",
       "<table border=\"1\" class=\"dataframe\">\n",
       "  <thead>\n",
       "    <tr style=\"text-align: right;\">\n",
       "      <th></th>\n",
       "      <th>Equity(2 [TSLA])</th>\n",
       "    </tr>\n",
       "  </thead>\n",
       "  <tbody>\n",
       "    <tr>\n",
       "      <th>2021-02-19 00:00:00+00:00</th>\n",
       "      <td>781.50</td>\n",
       "    </tr>\n",
       "    <tr>\n",
       "      <th>2021-02-22 00:00:00+00:00</th>\n",
       "      <td>714.71</td>\n",
       "    </tr>\n",
       "    <tr>\n",
       "      <th>2021-02-23 00:00:00+00:00</th>\n",
       "      <td>698.65</td>\n",
       "    </tr>\n",
       "    <tr>\n",
       "      <th>2021-02-24 00:00:00+00:00</th>\n",
       "      <td>742.02</td>\n",
       "    </tr>\n",
       "    <tr>\n",
       "      <th>2021-02-25 00:00:00+00:00</th>\n",
       "      <td>682.60</td>\n",
       "    </tr>\n",
       "    <tr>\n",
       "      <th>2021-02-26 00:00:00+00:00</th>\n",
       "      <td>671.01</td>\n",
       "    </tr>\n",
       "    <tr>\n",
       "      <th>2021-03-01 00:00:00+00:00</th>\n",
       "      <td>718.43</td>\n",
       "    </tr>\n",
       "    <tr>\n",
       "      <th>2021-03-02 00:00:00+00:00</th>\n",
       "      <td>686.05</td>\n",
       "    </tr>\n",
       "    <tr>\n",
       "      <th>2021-03-03 00:00:00+00:00</th>\n",
       "      <td>652.22</td>\n",
       "    </tr>\n",
       "    <tr>\n",
       "      <th>2021-03-04 00:00:00+00:00</th>\n",
       "      <td>621.49</td>\n",
       "    </tr>\n",
       "  </tbody>\n",
       "</table>\n",
       "</div>"
      ],
      "text/plain": [
       "                           Equity(2 [TSLA])\n",
       "2021-02-19 00:00:00+00:00            781.50\n",
       "2021-02-22 00:00:00+00:00            714.71\n",
       "2021-02-23 00:00:00+00:00            698.65\n",
       "2021-02-24 00:00:00+00:00            742.02\n",
       "2021-02-25 00:00:00+00:00            682.60\n",
       "2021-02-26 00:00:00+00:00            671.01\n",
       "2021-03-01 00:00:00+00:00            718.43\n",
       "2021-03-02 00:00:00+00:00            686.05\n",
       "2021-03-03 00:00:00+00:00            652.22\n",
       "2021-03-04 00:00:00+00:00            621.49"
      ]
     },
     "execution_count": 41,
     "metadata": {},
     "output_type": "execute_result"
    }
   ],
   "source": [
    "equity = bundle_data.asset_finder.lookup_symbol(\"TSLA\", end_date)\n",
    "data_portal.get_history_window(assets=[equity], end_dt=end_date, bar_count=10,\n",
    "                               frequency='1d',\n",
    "                               field='close',\n",
    "                               data_frequency='daily')"
   ]
  }
 ],
 "metadata": {
  "interpreter": {
   "hash": "604b9aca76cb390232c2970932f62541e966808f106567dd254497ead51e068f"
  },
  "kernelspec": {
   "display_name": "Python 3",
   "language": "python",
   "name": "python3"
  },
  "language_info": {
   "codemirror_mode": {
    "name": "ipython",
    "version": 3
   },
   "file_extension": ".py",
   "mimetype": "text/x-python",
   "name": "python",
   "nbconvert_exporter": "python",
   "pygments_lexer": "ipython3",
   "version": "3.6.13"
  }
 },
 "nbformat": 4,
 "nbformat_minor": 5
}
